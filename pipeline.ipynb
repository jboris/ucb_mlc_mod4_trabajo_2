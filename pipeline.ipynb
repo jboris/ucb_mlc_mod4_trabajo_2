{
  "cells": [
    {
      "cell_type": "code",
      "source": [
        "import configparser\n",
        "\n",
        "from azure.ai.ml import Input, load_component, MLClient\n",
        "from azure.ai.ml.entities import AmlCompute\n",
        "from azure.ai.ml.dsl import pipeline\n",
        "from azure.identity import DefaultAzureCredential"
      ],
      "outputs": [],
      "execution_count": 1,
      "metadata": {
        "gather": {
          "logged": 1699473473417
        }
      },
      "id": "ea150d18-23d1-489d-946e-a0e8694d6afd"
    },
    {
      "cell_type": "code",
      "source": [
        "config = configparser.ConfigParser()\n",
        "config.read('config.ini')\n",
        "subscription_id = config.get('Azure', 'subscription_id')\n",
        "resource_group = config.get('Azure', 'resource_group')\n",
        "workspace_name = config.get('Azure', 'workspace')\n",
        "datastore_name = config.get('Azure', 'datastore_name')"
      ],
      "outputs": [],
      "execution_count": 2,
      "metadata": {
        "gather": {
          "logged": 1699473474937
        }
      },
      "id": "540b168a-5ef0-4d74-83bc-faa356b76225"
    },
    {
      "cell_type": "code",
      "source": [
        "credential = DefaultAzureCredential()\n",
        "ml_client = MLClient(\n",
        "    credential=credential,\n",
        "    subscription_id=subscription_id,\n",
        "    resource_group_name=resource_group,\n",
        "    workspace_name=workspace_name,\n",
        ")"
      ],
      "outputs": [],
      "execution_count": 3,
      "metadata": {
        "gather": {
          "logged": 1699473477884
        }
      },
      "id": "fe466acb-bd4f-4c4f-8b7f-825e94f0151d"
    },
    {
      "cell_type": "code",
      "source": [
        "cpu_compute_target = \"cpu-cluster\"\n",
        "\n",
        "try:\n",
        "    cpu_cluster = ml_client.compute.get(cpu_compute_target)\n",
        "    print(\n",
        "        f\"You already have a cluster named {cpu_compute_target}, we'll reuse it as is.\"\n",
        "    )\n",
        "\n",
        "except Exception:\n",
        "    print(\"Creating a new cpu compute target...\")\n",
        "    cpu_cluster = AmlCompute(\n",
        "        name=cpu_compute_target,\n",
        "        type=\"amlcompute\",\n",
        "        size=\"Standard_D11_V2\",\n",
        "        min_instances=0,\n",
        "        max_instances=4,\n",
        "        idle_time_before_scale_down=180,\n",
        "        tier=\"Dedicated\",\n",
        "    )\n",
        "    print(\n",
        "        f\"AMLCompute with name {cpu_cluster.name} will be created, with compute size {cpu_cluster.size}\"\n",
        "    )\n",
        "    cpu_cluster = ml_client.compute.begin_create_or_update(cpu_cluster)"
      ],
      "outputs": [
        {
          "output_type": "stream",
          "name": "stdout",
          "text": "You already have a cluster named cpu-cluster, we'll reuse it as is.\n"
        }
      ],
      "execution_count": 4,
      "metadata": {
        "gather": {
          "logged": 1699473481281
        }
      },
      "id": "4d9d4b2e-62dd-40c2-8c83-7cc13e0ded88"
    },
    {
      "cell_type": "code",
      "source": [
        "component_names = ['description', 'clean', 'correlation', 'split', 'logistic_regression_train', 'decission_trees_train', 'score', 'evaluate']\n",
        "components = {}\n",
        "for name in component_names:\n",
        "    component = load_component(source=f\"./components/{name}_component/{name}.yml\")\n",
        "    components[name] = ml_client.create_or_update(component)\n"
      ],
      "outputs": [],
      "execution_count": 5,
      "metadata": {
        "gather": {
          "logged": 1699473497284
        }
      },
      "id": "92d340e9-f5b1-451e-9dcb-bd7702f40ee3"
    },
    {
      "cell_type": "code",
      "source": [
        "@pipeline(\n",
        "    default_compute=cpu_compute_target\n",
        ")\n",
        "def water_potability_logistic_regression(pipeline_input_data):\n",
        "    correlation_node = components['correlation'](\n",
        "        data=pipeline_input_data\n",
        "    )\n",
        "    clean_node = components['clean'](\n",
        "        data=pipeline_input_data\n",
        "    )\n",
        "    split_node = components['split'](\n",
        "        split_data=clean_node.outputs.clean_data_output\n",
        "    )\n",
        "    logistic_regression_train_node = components['logistic_regression_train'](\n",
        "        train_data=split_node.outputs.train_output,\n",
        "        objective='Potability'\n",
        "    )\n",
        "    score_node = components['score'](\n",
        "        model=logistic_regression_train_node.outputs.model_output,\n",
        "        test_data=split_node.outputs.test_output,\n",
        "    )\n",
        "    evaluate_node = components['evaluate'](\n",
        "        test_data=split_node.outputs.test_output,\n",
        "        predict_data=score_node.outputs.predict_output,\n",
        "        objective='Potability',\n",
        "        target_name='Potable',\n",
        "    )\n",
        "    return {\n",
        "        'pairplot': correlation_node.outputs.results_output,\n",
        "        'model': logistic_regression_train_node.outputs.model_output,\n",
        "        'report': evaluate_node.outputs.report_output\n",
        "    }"
      ],
      "outputs": [],
      "execution_count": 6,
      "metadata": {
        "gather": {
          "logged": 1699473504788
        }
      },
      "id": "5bfe9f3f-8d1c-47f4-9a0c-7342a89e3b8a"
    },
    {
      "cell_type": "code",
      "source": [
        "data_asset = ml_client.data.get(name=\"water-potability\", version='1')\n",
        "water_potability = Input(type=\"uri_file\", path=data_asset.path)\n",
        "pipeline = water_potability_logistic_regression(pipeline_input_data=water_potability)"
      ],
      "outputs": [],
      "execution_count": 7,
      "metadata": {
        "collapsed": false,
        "gather": {
          "logged": 1699473509171
        },
        "jupyter": {
          "outputs_hidden": false,
          "source_hidden": false
        },
        "nteract": {
          "transient": {
            "deleting": false
          }
        }
      },
      "id": "66f40e3b-b28b-4e6c-8232-647b58a38439"
    },
    {
      "cell_type": "code",
      "source": [
        "pipeline_job = ml_client.jobs.create_or_update(\n",
        "    pipeline,\n",
        "    experiment_name='pipeline-exp',\n",
        ")\n",
        "ml_client.jobs.stream(pipeline_job.name)"
      ],
      "outputs": [
        {
          "output_type": "stream",
          "name": "stderr",
          "text": "Class AutoDeleteSettingSchema: This is an experimental class, and may change at any time. Please see https://aka.ms/azuremlexperimental for more information.\nClass AutoDeleteConditionSchema: This is an experimental class, and may change at any time. Please see https://aka.ms/azuremlexperimental for more information.\nClass BaseAutoDeleteSettingSchema: This is an experimental class, and may change at any time. Please see https://aka.ms/azuremlexperimental for more information.\nClass IntellectualPropertySchema: This is an experimental class, and may change at any time. Please see https://aka.ms/azuremlexperimental for more information.\nClass ProtectionLevelSchema: This is an experimental class, and may change at any time. Please see https://aka.ms/azuremlexperimental for more information.\nClass BaseIntellectualPropertySchema: This is an experimental class, and may change at any time. Please see https://aka.ms/azuremlexperimental for more information.\n"
        },
        {
          "output_type": "stream",
          "name": "stdout",
          "text": "RunId: bubbly_lettuce_cjb56vt8l8\nWeb View: https://ml.azure.com/runs/bubbly_lettuce_cjb56vt8l8?wsid=/subscriptions/f3aa5221-5b34-4091-bcec-acf7b816f5b6/resourcegroups/GrpPipeline4/workspaces/Pipeline4\n\nStreaming logs/azureml/executionlogs.txt\n========================================\n\n[2023-11-08 19:58:37Z] Submitting 2 runs, first five are: 21cab911:9b49c2f5-92a1-456b-8217-fe15256454e0,72d862ff:6e890019-285d-4914-870b-796cf2c2739d\n[2023-11-08 19:58:40Z] Completing processing run id 9b49c2f5-92a1-456b-8217-fe15256454e0.\n[2023-11-08 20:07:15Z] Completing processing run id 6e890019-285d-4914-870b-796cf2c2739d.\n[2023-11-08 20:07:16Z] Submitting 1 runs, first five are: 5843539d:5075315e-4cf2-4e8c-af0f-fc6776225e00\n[2023-11-08 20:08:05Z] Completing processing run id 5075315e-4cf2-4e8c-af0f-fc6776225e00.\n[2023-11-08 20:08:06Z] Submitting 1 runs, first five are: f3750b2a:6840f6a7-230b-48c7-8cfe-2e3f3200a08e\n[2023-11-08 20:08:48Z] Completing processing run id 6840f6a7-230b-48c7-8cfe-2e3f3200a08e.\n[2023-11-08 20:08:48Z] Submitting 1 runs, first five are: e5c4ef16:2d91c75e-0959-4b8f-848e-2fc92f0e52b8\n[2023-11-08 20:09:33Z] Completing processing run id 2d91c75e-0959-4b8f-848e-2fc92f0e52b8.\n[2023-11-08 20:09:34Z] Submitting 1 runs, first five are: f2c6b052:da42fdb8-5840-44dd-b43a-723cef7bd970\n[2023-11-08 20:10:14Z] Completing processing run id da42fdb8-5840-44dd-b43a-723cef7bd970.\n\nExecution Summary\n=================\nRunId: bubbly_lettuce_cjb56vt8l8\nWeb View: https://ml.azure.com/runs/bubbly_lettuce_cjb56vt8l8?wsid=/subscriptions/f3aa5221-5b34-4091-bcec-acf7b816f5b6/resourcegroups/GrpPipeline4/workspaces/Pipeline4\n\n"
        }
      ],
      "execution_count": 8,
      "metadata": {
        "gather": {
          "logged": 1699474268030
        }
      },
      "id": "61f48b6c-e4f6-4b83-a597-ac9889782720"
    },
    {
      "cell_type": "code",
      "source": [
        "output = ml_client.jobs.download(name=pipeline_job.name, download_path='./pipeline_output', all=True)"
      ],
      "outputs": [
        {
          "output_type": "stream",
          "name": "stderr",
          "text": "Downloading artifact azureml://subscriptions/f3aa5221-5b34-4091-bcec-acf7b816f5b6/resourcegroups/GrpPipeline4/workspaces/Pipeline4/datastores/workspaceblobstore/paths/azureml/b01383f9-6a1b-46ef-aaaf-95fc70eb3e1b/results_output/ to pipeline_output/named-outputs/pairplot\nDownloading artifact azureml://subscriptions/f3aa5221-5b34-4091-bcec-acf7b816f5b6/resourcegroups/GrpPipeline4/workspaces/Pipeline4/datastores/workspaceblobstore/paths/azureml/6840f6a7-230b-48c7-8cfe-2e3f3200a08e/model_output to pipeline_output/named-outputs/model\nDownloading artifact azureml://subscriptions/f3aa5221-5b34-4091-bcec-acf7b816f5b6/resourcegroups/GrpPipeline4/workspaces/Pipeline4/datastores/workspaceblobstore/paths/azureml/da42fdb8-5840-44dd-b43a-723cef7bd970/report_output to pipeline_output/named-outputs/report\nDownloading artifact azureml://datastores/workspaceartifactstore/paths/ExperimentRun/dcid.bubbly_lettuce_cjb56vt8l8/ to pipeline_output/artifacts\nBad pipe message: %s [b'UA\\xaa\\xa8\\x89\\x94j\\xbe\\xff\\\\\\xdc\\xc1z\\xdc\\x9cq\"\\\\ [\\x0e\\x10o((DW$#\\x9e\\x10\\xfe\\xb51\\x978[*\\x1e\\xa4\\xba[i\\xf7\\xa6\\xad\\xb2\\xd9\\x9a%g\\x00\\x08\\x13\\x02\\x13\\x03\\x13\\x01\\x00\\xff\\x01\\x00\\x00\\x8f\\x00\\x00\\x00\\x0e\\x00\\x0c\\x00\\x00\\t127.0.0.1\\x00\\x0b\\x00\\x04\\x03\\x00']\nBad pipe message: %s [b'']\nBad pipe message: %s [b\"\\x0e\\xe2\\x93\\xd2\\xff\\xb5\\x96\\xfe\\x82\\xdd%1KJ\\x88U\\xca\\x9c\\x00\\x00|\\xc0,\\xc00\\x00\\xa3\\x00\\x9f\\xcc\\xa9\\xcc\\xa8\\xcc\\xaa\\xc0\\xaf\\xc0\\xad\\xc0\\xa3\\xc0\\x9f\\xc0]\\xc0a\\xc0W\\xc0S\\xc0+\\xc0/\\x00\\xa2\\x00\\x9e\\xc0\\xae\\xc0\\xac\\xc0\\xa2\\xc0\\x9e\\xc0\\\\\\xc0`\\xc0V\\xc0R\\xc0$\\xc0(\\x00k\\x00j\\xc0#\\xc0'\\x00g\\x00@\\xc0\\n\\xc0\\x14\\x009\\x008\\xc0\\t\\xc0\\x13\\x003\\x002\\x00\\x9d\\xc0\\xa1\\xc0\\x9d\\xc0Q\\x00\\x9c\\xc0\\xa0\\xc0\\x9c\\xc0P\"]\nBad pipe message: %s [b'F\\xacSU\\x0e0\\xcaG\\x83\\xd2\\xbc]\\x18[\\x97\\x1c+1\\x00\\x00\\xa2\\xc0']\nBad pipe message: %s [b'\\n\\x009\\x008\\x007\\x006\\x00\\x88\\x00\\x87\\x00\\x86\\x00\\x85\\xc0\\x19']\nBad pipe message: %s [b'\\xfe\\x18\\r\\xaf6\\x98.O\\x10\\x12\\xc4^\\xd6\\x932i\\xfe\\t\\x00\\x00\\xa2\\xc0\\x14\\xc0\\n\\x009\\x008\\x007\\x006\\x00\\x88\\x00\\x87\\x00\\x86\\x00\\x85\\xc0\\x19\\x00:\\x00\\x89\\xc0\\x0f\\xc0\\x05\\x005\\x00\\x84\\xc0\\x13\\xc0\\t\\x003\\x002\\x001\\x000\\x00\\x9a\\x00\\x99\\x00\\x98\\x00\\x97\\x00E\\x00D\\x00C\\x00B\\xc0\\x18\\x004\\x00\\x9b\\x00F\\xc0\\x0e\\xc0\\x04\\x00/\\x00\\x96\\x00A\\x00\\x07\\xc0\\x11\\xc0\\x07\\xc0\\x16\\x00\\x18\\xc0\\x0c\\xc0\\x02\\x00\\x05\\x00\\x04\\xc0\\x12\\xc0\\x08\\x00\\x16\\x00\\x13\\x00\\x10\\x00\\r\\xc0\\x17\\x00\\x1b\\xc0\\r\\xc0\\x03\\x00\\n\\x00\\x15\\x00\\x12\\x00\\x0f\\x00\\x0c\\x00\\x1a\\x00\\t\\x00\\x14\\x00\\x11\\x00\\x19\\x00\\x08\\x00\\x06\\x00\\x17\\x00\\x03\\xc0\\x10\\xc0\\x06\\xc0\\x15\\xc0\\x0b\\xc0\\x01\\x00\\x02\\x00\\x01\\x00\\xff\\x02\\x01\\x00\\x00C\\x00\\x00\\x00\\x0e\\x00\\x0c\\x00\\x00\\t127.0.0.1\\x00\\x0b\\x00\\x04\\x03\\x00\\x01\\x02']\nBad pipe message: %s [b'\\xb8\\x98\\xe6\\xce\\xcf\\x0f\\xf0\\x91P\\x947\\xe4H\\xe9\\xfb\\x8d\\xe3\\x80\\x00\\x00>\\xc0\\x14\\xc0\\n\\x009\\x008\\x007\\x006\\xc0\\x0f\\xc0\\x05\\x005\\xc0\\x13\\xc0\\t\\x003\\x002\\x001']\nBad pipe message: %s [b\"\\xd5\\x17N,\\x07\\x12\\x82\\x0e\\xfd\\xd9qm\\xa3\\xbbi\\xf9mY\\x00\\x00\\x86\\xc00\\xc0,\\xc0(\\xc0$\\xc0\\x14\\xc0\\n\\x00\\xa5\\x00\\xa3\\x00\\xa1\\x00\\x9f\\x00k\\x00j\\x00i\\x00h\\x009\\x008\\x007\\x006\\xc02\\xc0.\\xc0*\\xc0&\\xc0\\x0f\\xc0\\x05\\x00\\x9d\\x00=\\x005\\xc0/\\xc0+\\xc0'\\xc0#\\xc0\\x13\\xc0\\t\\x00\\xa4\\x00\\xa2\\x00\\xa0\\x00\\x9e\\x00g\\x00@\\x00?\\x00>\\x003\\x002\\x001\\x000\\xc01\\xc0-\\xc0)\\xc0%\\xc0\\x0e\\xc0\\x04\\x00\\x9c\\x00<\\x00/\\x00\\x9a\\x00\\x99\\x00\\x98\\x00\\x97\\x00\\x96\\x00\\x07\\xc0\", b'\\x07\\xc0\\x0c\\xc0\\x02\\x00\\x05\\x00\\x04\\x00\\xff\\x02\\x01\\x00\\x00g']\nBad pipe message: %s [b'\\xbf\\x94\\xe5\\x94\\x18\\xea\\xa6\\x81\\xb7Q\\n\\x87\\xa1g']\nBad pipe message: %s [b\"W\\xc8\\x00\\x00\\xf4\\xc00\\xc0,\\xc0(\\xc0$\\xc0\\x14\\xc0\\n\\x00\\xa5\\x00\\xa3\\x00\\xa1\\x00\\x9f\\x00k\\x00j\\x00i\\x00h\\x009\\x008\\x007\\x006\\x00\\x88\\x00\\x87\\x00\\x86\\x00\\x85\\xc0\\x19\\x00\\xa7\\x00m\\x00:\\x00\\x89\\xc02\\xc0.\\xc0*\\xc0&\\xc0\\x0f\\xc0\\x05\\x00\\x9d\\x00=\\x005\\x00\\x84\\xc0/\\xc0+\\xc0'\\xc0#\\xc0\\x13\\xc0\\t\\x00\\xa4\\x00\\xa2\\x00\\xa0\\x00\\x9e\\x00g\\x00@\\x00?\\x00>\\x003\\x002\\x001\\x000\\x00\\x9a\\x00\\x99\\x00\\x98\\x00\\x97\\x00E\\x00D\\x00C\\x00B\\xc0\\x18\\x00\\xa6\\x00l\\x004\\x00\\x9b\\x00F\\xc01\\xc0-\\xc0)\\xc0%\\xc0\\x0e\\xc0\\x04\\x00\\x9c\\x00<\\x00/\\x00\\x96\\x00A\\x00\\x07\\xc0\\x11\\xc0\\x07\\xc0\\x16\\x00\"]\nBad pipe message: %s [b'\\x0c\\xc0\\x02\\x00\\x05\\x00\\x04\\xc0\\x12\\xc0\\x08\\x00\\x16\\x00\\x13\\x00\\x10\\x00\\r\\xc0\\x17\\x00\\x1b']\n"
        }
      ],
      "execution_count": 10,
      "metadata": {
        "gather": {
          "logged": 1699476493583
        }
      },
      "id": "a392d6ed-03ba-4422-aa0b-857f1f62531e"
    }
  ],
  "metadata": {
    "kernel_info": {
      "name": "python310-sdkv2"
    },
    "kernelspec": {
      "name": "python310-sdkv2",
      "language": "python",
      "display_name": "Python 3.10 - SDK v2"
    },
    "language_info": {
      "name": "python",
      "version": "3.10.11",
      "mimetype": "text/x-python",
      "codemirror_mode": {
        "name": "ipython",
        "version": 3
      },
      "pygments_lexer": "ipython3",
      "nbconvert_exporter": "python",
      "file_extension": ".py"
    },
    "microsoft": {
      "host": {
        "AzureML": {
          "notebookHasBeenCompleted": true
        }
      },
      "ms_spell_check": {
        "ms_spell_check_language": "en"
      }
    },
    "nteract": {
      "version": "nteract-front-end@1.0.0"
    }
  },
  "nbformat": 4,
  "nbformat_minor": 5
}