{
 "cells": [
  {
   "cell_type": "code",
   "execution_count": null,
   "id": "ea150d18-23d1-489d-946e-a0e8694d6afd",
   "metadata": {
    "gather": {
     "logged": 1699155193458
    }
   },
   "outputs": [],
   "source": [
    "import configparser\n",
    "\n",
    "from azure.ai.ml import Input, load_component, MLClient\n",
    "from azure.ai.ml.entities import AmlCompute\n",
    "from azure.ai.ml.dsl import pipeline\n",
    "from azure.identity import DefaultAzureCredential"
   ]
  },
  {
   "cell_type": "code",
   "execution_count": null,
   "id": "540b168a-5ef0-4d74-83bc-faa356b76225",
   "metadata": {
    "gather": {
     "logged": 1699155197141
    }
   },
   "outputs": [],
   "source": [
    "config = configparser.ConfigParser()\n",
    "config.read('config.ini')\n",
    "subscription_id = config.get('Azure', 'subscription_id')\n",
    "resource_group = config.get('Azure', 'resource_group')\n",
    "workspace_name = config.get('Azure', 'workspace')\n",
    "datastore_name = config.get('Azure', 'datastore_name')"
   ]
  },
  {
   "cell_type": "code",
   "execution_count": null,
   "id": "fe466acb-bd4f-4c4f-8b7f-825e94f0151d",
   "metadata": {
    "gather": {
     "logged": 1699155202488
    }
   },
   "outputs": [],
   "source": [
    "credential = DefaultAzureCredential()\n",
    "ml_client = MLClient(\n",
    "    credential=credential,\n",
    "    subscription_id=subscription_id,\n",
    "    resource_group_name=resource_group,\n",
    "    workspace_name=workspace_name,\n",
    ")"
   ]
  },
  {
   "cell_type": "code",
   "execution_count": null,
   "id": "4d9d4b2e-62dd-40c2-8c83-7cc13e0ded88",
   "metadata": {
    "gather": {
     "logged": 1699155205902
    }
   },
   "outputs": [],
   "source": [
    "cpu_compute_target = \"cpu-cluster\"\n",
    "\n",
    "try:\n",
    "    cpu_cluster = ml_client.compute.get(cpu_compute_target)\n",
    "    print(\n",
    "        f\"You already have a cluster named {cpu_compute_target}, we'll reuse it as is.\"\n",
    "    )\n",
    "\n",
    "except Exception:\n",
    "    print(\"Creating a new cpu compute target...\")\n",
    "    cpu_cluster = AmlCompute(\n",
    "        name=cpu_compute_target,\n",
    "        type=\"amlcompute\",\n",
    "        size=\"STANDARD_DS3_V2\",\n",
    "        min_instances=0,\n",
    "        max_instances=4,\n",
    "        idle_time_before_scale_down=180,\n",
    "        tier=\"Dedicated\",\n",
    "    )\n",
    "    print(\n",
    "        f\"AMLCompute with name {cpu_cluster.name} will be created, with compute size {cpu_cluster.size}\"\n",
    "    )\n",
    "    cpu_cluster = ml_client.compute.begin_create_or_update(cpu_cluster)"
   ]
  },
  {
   "cell_type": "code",
   "execution_count": null,
   "id": "92d340e9-f5b1-451e-9dcb-bd7702f40ee3",
   "metadata": {
    "gather": {
     "logged": 1699155222464
    }
   },
   "outputs": [],
   "source": [
    "component_names = ['description', 'clean', 'correlation', 'split', 'logistic_regression_train', 'decission_trees_train', 'score', 'evaluate']\n",
    "components = {}\n",
    "for name in component_names:\n",
    "    component = load_component(source=f\"./components/{name}_component/{name}.yml\")\n",
    "    components[name] = ml_client.create_or_update(component)\n"
   ]
  },
  {
   "cell_type": "code",
   "execution_count": null,
   "id": "5bfe9f3f-8d1c-47f4-9a0c-7342a89e3b8a",
   "metadata": {
    "gather": {
     "logged": 1699155226508
    }
   },
   "outputs": [],
   "source": [
    "@pipeline(\n",
    "    default_compute=cpu_compute_target\n",
    ")\n",
    "def water_potability_logistic_regression(pipeline_input_data):\n",
    "    correlation_node = components['correlation'](\n",
    "        data=pipeline_input_data\n",
    "    )\n",
    "    clean_node = components['clean'](\n",
    "        data=pipeline_input_data\n",
    "    )\n",
    "    split_node = components['split'](\n",
    "        split_data=clean_node.outputs.clean_data_output\n",
    "    )\n",
    "    logistic_regression_train_node = components['logistic_regression_train'](\n",
    "        train_data=split_node.outputs.train_output,\n",
    "        objective='Potability'\n",
    "    )\n",
    "    score_node = components['score'](\n",
    "        model=logistic_regression_train_node.outputs.model_output,\n",
    "        test_data=split_node.outputs.test_output,\n",
    "    )\n",
    "    evaluate_node = components['evaluate'](\n",
    "        test_data=split_node.outputs.test_output,\n",
    "        target_name='Potable',\n",
    "        predict_data=score_node.outputs.predict_output\n",
    "    )\n",
    "    return {\n",
    "        'pairplot': correlation_node.outputs.pairplot_image_output,\n",
    "        'model': logistic_regression_train_node.outputs.model_output,\n",
    "        'report': evaluate_node.outputs.report_output\n",
    "    }"
   ]
  },
  {
   "cell_type": "code",
   "execution_count": null,
   "id": "66f40e3b-b28b-4e6c-8232-647b58a38439",
   "metadata": {
    "collapsed": false,
    "gather": {
     "logged": 1699155267784
    },
    "jupyter": {
     "outputs_hidden": false,
     "source_hidden": false
    },
    "nteract": {
     "transient": {
      "deleting": false
     }
    }
   },
   "outputs": [],
   "source": [
    "data_asset = ml_client.data.get(name=\"water-potability\", version='1')\n",
    "water_potability = Input(type=\"uri_file\", path=data_asset.path)\n",
    "pipeline = water_potability_logistic_regression(pipeline_input_data=water_potability)"
   ]
  },
  {
   "cell_type": "code",
   "execution_count": null,
   "id": "61f48b6c-e4f6-4b83-a597-ac9889782720",
   "metadata": {
    "gather": {
     "logged": 1699155843497
    }
   },
   "outputs": [],
   "source": [
    "pipeline_job = ml_client.jobs.create_or_update(\n",
    "    pipeline,\n",
    "    experiment_name='pipeline-exp',\n",
    ")\n",
    "ml_client.jobs.stream(pipeline_job.name)"
   ]
  },
  {
   "cell_type": "code",
   "execution_count": null,
   "id": "a392d6ed-03ba-4422-aa0b-857f1f62531e",
   "metadata": {},
   "outputs": [],
   "source": [
    "output = ml_client.jobs.download(name=pipeline_job.name, download_path='./pipeline_output', all=True)"
   ]
  }
 ],
 "metadata": {
  "kernel_info": {
   "name": "python310-sdkv2"
  },
  "kernelspec": {
   "display_name": "Python 3 (ipykernel)",
   "language": "python",
   "name": "python3"
  },
  "language_info": {
   "codemirror_mode": {
    "name": "ipython",
    "version": 3
   },
   "file_extension": ".py",
   "mimetype": "text/x-python",
   "name": "python",
   "nbconvert_exporter": "python",
   "pygments_lexer": "ipython3",
   "version": "3.11.4"
  },
  "microsoft": {
   "host": {
    "AzureML": {
     "notebookHasBeenCompleted": true
    }
   },
   "ms_spell_check": {
    "ms_spell_check_language": "en"
   }
  },
  "nteract": {
   "version": "nteract-front-end@1.0.0"
  }
 },
 "nbformat": 4,
 "nbformat_minor": 5
}
